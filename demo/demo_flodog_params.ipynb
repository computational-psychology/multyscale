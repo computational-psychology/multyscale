{
 "metadata": {
  "language_info": {
   "codemirror_mode": {
    "name": "ipython",
    "version": 3
   },
   "file_extension": ".py",
   "mimetype": "text/x-python",
   "name": "python",
   "nbconvert_exporter": "python",
   "pygments_lexer": "ipython3",
   "version": "3.8.5"
  },
  "orig_nbformat": 2,
  "kernelspec": {
   "name": "python385jvsc74a57bd09ce64e1dc51e0fcc26138e95c5a56d90c12dc0aa848e7879d92efc252f96a3f1",
   "display_name": "Python 3.8.5 64-bit ('lightness_models')"
  }
 },
 "nbformat": 4,
 "nbformat_minor": 2,
 "cells": [
  {
   "cell_type": "code",
   "execution_count": 1,
   "metadata": {},
   "outputs": [],
   "source": [
    "# Third party libraries\n",
    "import numpy as np\n",
    "import matplotlib.pyplot as plt\n",
    "from PIL import Image\n",
    "import ipywidgets\n",
    "\n",
    "# Import local module\n",
    "import multyscale"
   ]
  },
  {
   "cell_type": "code",
   "execution_count": 2,
   "metadata": {},
   "outputs": [],
   "source": [
    "# %% Load example stimulus\n",
    "stimulus = np.asarray(Image.open(\"example_stimulus.png\").convert(\"L\"))\n",
    "\n",
    "# %% Parameters of image\n",
    "shape = stimulus.shape  # filtershape in pixels\n",
    "# visual extent, same convention as pyplot:\n",
    "visextent = (-16, 16, -16, 16)\n"
   ]
  },
  {
   "cell_type": "code",
   "execution_count": 3,
   "metadata": {},
   "outputs": [],
   "source": [
    "# %% Create model\n",
    "model = multyscale.models.FLODOG_RHS2007(shape, visextent)"
   ]
  },
  {
   "cell_type": "code",
   "execution_count": 4,
   "metadata": {},
   "outputs": [],
   "source": [
    "filters_output = model.bank.apply(stimulus)"
   ]
  },
  {
   "cell_type": "code",
   "execution_count": 5,
   "metadata": {},
   "outputs": [],
   "source": [
    "weighted_outputs = model.weight_outputs(filters_output)"
   ]
  },
  {
   "cell_type": "code",
   "execution_count": 29,
   "metadata": {},
   "outputs": [
    {
     "output_type": "display_data",
     "data": {
      "text/plain": "interactive(children=(FloatSlider(value=0.5, description='Scale-mixing Gaussian SD:', max=3.0, min=0.25, step=…",
      "application/vnd.jupyter.widget-view+json": {
       "version_major": 2,
       "version_minor": 0,
       "model_id": "255cb991dd1a4167adbe247a309d8d2d"
      }
     },
     "metadata": {}
    },
    {
     "output_type": "execute_result",
     "data": {
      "text/plain": [
       "<function __main__.f(sdmix, spatial_window_scalar)>"
      ]
     },
     "metadata": {},
     "execution_count": 29
    }
   ],
   "source": [
    "def f(sdmix, spatial_window_scalar):\n",
    "    model.spatial_window_scalar = spatial_window_scalar\n",
    "    model.sdmix = sdmix\n",
    "    model.scale_norm_weights = multyscale.normalization.scale_norm_weights_gaussian(\n",
    "        len(model.scale_weights), model.sdmix\n",
    "    )\n",
    "    model.normalization_weights =       multyscale.normalization.create_normalization_weights(\n",
    "        6, 7, model.scale_norm_weights, model.orientation_norm_weights\n",
    "    )\n",
    "    model.window_sigmas = np.broadcast_to(\n",
    "        np.array(model.center_sigmas)[None, ..., None], (6, 7, 2)\n",
    "    )\n",
    "\n",
    "    print(f\"Running {model.sdmix,model.spatial_window_scalar}...\")\n",
    "    output = model.normalize_outputs(weighted_outputs).sum((0,1))\n",
    "\n",
    "    plt.subplot(1, 2, 1)\n",
    "    plt.imshow(output, extent=visextent)\n",
    "    plt.subplot(1, 2, 2)\n",
    "    plt.plot(output[512, 250:750])\n",
    "    print(\"Done!\")\n",
    "\n",
    "ipywidgets.interact_manual(f, sdmix=ipywidgets.FloatSlider(description = \"Scale-mixing Gaussian SD:\", min = 0.25, max = 3., value = .5, step=0.25), spatial_window_scalar=ipywidgets.FloatSlider(description = \"Spatial averaging window scalar:\", min = 1, max = 4, value = 2, step=1))"
   ]
  },
  {
   "cell_type": "code",
   "execution_count": null,
   "metadata": {},
   "outputs": [],
   "source": []
  }
 ]
}