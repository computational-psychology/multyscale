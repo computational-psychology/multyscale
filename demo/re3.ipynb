{
 "cells": [
  {
   "cell_type": "markdown",
   "id": "dcbfab0e",
   "metadata": {},
   "source": [
    "# Rewrite Reuse Refactor\n",
    "## Reproducing Unit Tests using refactored ODOG formulation\n",
    "This Notebook introduces a new way of formulating the normalization step of the ODOG family of Models, and shows that this formulation is numerically equivalent to the original paper implementation, to establish continuity"
   ]
  },
  {
   "cell_type": "code",
   "execution_count": 1,
   "id": "b4e3519d",
   "metadata": {},
   "outputs": [],
   "source": [
    "# Third party libraries\n",
    "import numpy as np\n",
    "import matplotlib.pyplot as plt\n",
    "from PIL import Image\n",
    "import scipy\n",
    "\n",
    "# Import local module\n",
    "import multyscale"
   ]
  },
  {
   "cell_type": "code",
   "execution_count": 2,
   "id": "1b0ec8f2",
   "metadata": {},
   "outputs": [],
   "source": [
    "# %% Load example stimulus\n",
    "stimulus = np.asarray(Image.open(\"image_source/example_stimulus.png\").convert(\"L\"))\n",
    "\n",
    "# %% Parameters of image\n",
    "# visual extent, same convention as pyplot:\n",
    "visextent = (-16, 16, -16, 16)"
   ]
  },
  {
   "cell_type": "code",
   "execution_count": 3,
   "id": "e7655c54",
   "metadata": {},
   "outputs": [],
   "source": [
    "# Frontend filterbank of ODOG implementation by Robinson et al. (2007)\n",
    "filterbank = multyscale.filterbank.RHS2007(filtershape=stimulus.shape, visextent=visextent)\n",
    "\n",
    "# Filter the example stimulus\n",
    "#filters_output = filterbank.apply(stimulus)"
   ]
  },
  {
   "cell_type": "markdown",
   "id": "73904479",
   "metadata": {},
   "source": [
    "This preamble defines a filterbank output which is not already normalized by any function. The Traditional ODOG normalization function is multyscale/models.py ODOG, shown below"
   ]
  },
  {
   "cell_type": "code",
   "execution_count": 14,
   "id": "b519b55f",
   "metadata": {},
   "outputs": [],
   "source": [
    "def normalize_outputs(self, filters_output):\n",
    "        # TODO: docstring\n",
    "        normalizers = self.normalizers(filters_output)\n",
    "\n",
    "        normalizer_RMS = self.normalizers_to_RMS(normalizers)\n",
    "\n",
    "        normalized_outputs = np.ndarray(filters_output.shape)\n",
    "        for o, s in np.ndindex(filters_output.shape[:2]):\n",
    "            normalized_outputs[o, s] = filters_output[o, s] / normalizer_RMS[o, s]\n",
    "\n",
    "        return normalized_outputs\n"
   ]
  },
  {
   "cell_type": "markdown",
   "id": "a46964ec",
   "metadata": {},
   "source": [
    "We're comparing this to a new implementation which replaces the math of the original function by a more general form.  \n",
    "The traditional ODOG formulation looks like this:\n",
    "\n",
    "$$ODOG: \\frac{f_{o^*,s^*}}{\\sqrt{\\frac{1}{1024^2}\\sum_{x,y=0}^{1024,1024}(\\sum_{o,s=1}^{O, S}{w_{o,s} f_{o,s})^2}}}$$\n",
    "where $w_{o,s} =   \\begin{cases} \n",
    "      1/S & o = o^*  \\\\\n",
    "      0 & else\n",
    "   \\end{cases} \n",
    "$  \n",
    "This is equivalent to an equation that implements the averaging in the denominator as a linear filter, that scales the filter aggregate produced by the sum over scales/orientations. This changes the dimensionality of the denominator, but not actually the result of the division, since image by image division is executed pixel-wise\n",
    "\n",
    "$$ODOG: \\frac{f_{o^*,s^*}}{\\sqrt{F_{x,y}*(\\sum_{o,s=0}^{5,6}{w_{o,s} f_{o,s})^2}}}$$\n",
    "$w_{o,s}$ same as above,  \n",
    "$F_{x,y} = \\frac{1}{1024^2}$ everywhere.\n",
    "\n",
    "By renaming the remaining sum in the denominator, we can find an abstract formulation of the RMS-Norm as a sequence of linear filters\n",
    "\n",
    " $$\\frac{f_{o^*,s^*}}{\\sqrt{F_{x,y}*(\\sum_{o,s=0}^{5,6}{w_{o,s} f_{o,s})^2}}}=\\frac{f_{o^*,s^*}}{\\sqrt{G * N^2}} = \\frac{f_{o^*,s^*}}{\\sqrt{G * (W \\cdot f)^2}}$$\n",
    " \n",
    " Which helps us develop terminology. The entire fraction is called the divisive norm on the filterbank-output $f$.  \n",
    " $G * N^2$ is the local energy, calculated as the convolution of $G$ the spatial weighting, and $N^2$ the Normcoefficient image squared.  \n",
    "The Normcoefficient Image can be calculated in turn by computing the Normpool $W$ dotproduct against the same $f$ that we are normalizing.\n",
    "   \n",
    "An implementation of this formulation can be found here:"
   ]
  },
  {
   "cell_type": "code",
   "execution_count": 3,
   "id": "97891411",
   "metadata": {},
   "outputs": [],
   "source": [
    "def divisive_norm(filter_outputs, o, s):\n",
    "    G = spatial_weighting(filter_outputs.shape[-2:])\n",
    "    N = normcoeff(filter_outputs, o, s)**2\n",
    "    \n",
    "    z = scipy.signal.convolve(G, N, mode=\"valid\")\n",
    "    normed_filter = filter_outputs[o,s,:] / np.sqrt(z)\n",
    "    return normed_filter\n",
    "\n",
    "def normcoeff(filter_outputs, o_0, s_0): \n",
    "    w = normpool(filter_outputs.shape[0],filter_outputs.shape[1], o_0, s_0)\n",
    "    coeffs = np.tensordot(filter_outputs, w, axes=([0, 1], [0, 1]))\n",
    "    return coeffs\n",
    "\n",
    "def normpool(O, S, o_0, s_0): # w_{o,s}\n",
    "    ODOG = True\n",
    "    LODOG, FLODOG = False, False\n",
    "    w = np.ones(shape=(O,S))\n",
    "    for o in range(O):\n",
    "        for s in range(S):\n",
    "            if ODOG or LODOG:\n",
    "                if o==o_0:\n",
    "                    w[o,s] = 1/S\n",
    "                else:\n",
    "                    w[o,s] = 0\n",
    "\n",
    "            if FLODOG:\n",
    "                if o==o_0:\n",
    "                    w[o,s] = 1 #gaussian(s-s_0)\n",
    "                else:\n",
    "                    w[o,s] = 0\n",
    "    return w\n",
    "\n",
    "def spatial_weighting(filter_shape):\n",
    "    ODOG = True\n",
    "    LODOG, FLODOG = False, False\n",
    "    if ODOG:\n",
    "        G = np.ones(filter_shape) / np.prod(filter_shape)\n",
    "        \n",
    "    if LODOG:\n",
    "        G = 1 #gaussian(filter_shape, sigma)\n",
    "\n",
    "    if FLODOG:\n",
    "        G = 1 #gaussian(filter_shape, sigma=k*s)\n",
    "    return G"
   ]
  },
  {
   "cell_type": "markdown",
   "id": "bdb3590a",
   "metadata": {},
   "source": [
    "Our goal is now to establish numerical equivalence between the traditional formulation and the result of the newly reformatted and mathematically motivated code\n",
    "\n",
    "The original implementation is already tested against the matlab implementation of RHS_2007, so we know it is sound.\n",
    "  \n",
    "We will use this notebook to figure out: 1) if all of the units of our new implementation act as expected and 2) if the integration of those units is again comparable to RHS_2007"
   ]
  },
  {
   "cell_type": "markdown",
   "id": "309a9c28",
   "metadata": {},
   "source": [
    "Note that in the module, all of the below functions will appear in multyscale/test, separated into fixtures and tests."
   ]
  },
  {
   "cell_type": "code",
   "execution_count": 5,
   "id": "3a27717c",
   "metadata": {},
   "outputs": [
    {
     "name": "stdout",
     "output_type": "stream",
     "text": [
      "unit test normcoeff\n",
      "Run full 6x7 analysis? [y/n] n\n",
      "only doing 5 dimensions chosen at random\n",
      "dimension 2,1 is sound\n",
      "dimension 4,5 is sound\n",
      "dimension 1,2 is sound\n",
      "dimension 5,1 is sound\n",
      "dimension 4,5 is sound\n",
      "unit test divisive\n",
      "dimension 0,4 is sound\n",
      "dimension 3,6 is sound\n",
      "dimension 1,1 is sound\n",
      "dimension 0,5 is sound\n",
      "dimension 3,0 is sound\n"
     ]
    }
   ],
   "source": [
    "def filtershape():\n",
    "    return (1024,1024)\n",
    "\n",
    "def test_unit_spatial_weighting(filter_shape):\n",
    "    G = spatial_weighting(filter_shape)\n",
    "    assert np.allclose(G, 1/np.prod(filter_shape))\n",
    "    \n",
    "test_unit_spatial_weighting(filtershape())\n",
    "\n",
    "def filteroutput():\n",
    "    return np.random.random(size=(6,7,1024,1024))\n",
    "\n",
    "\n",
    "def test_unit_normcoeff(filter_outputs):\n",
    "    # use sum over scales formulation instead of linear filter\n",
    "    if input(\"Run full 6x7 analysis? [y/n] \")==\"y\":\n",
    "        N = np.zeros(shape=(6,7,1024,1024))\n",
    "        for o, s in np.ndindex(filter_outputs.shape[:2]):\n",
    "            for x,y in np.ndindex(filter_outputs.shape[2:]):\n",
    "                N[o, s, x, y] = np.sum(filter_outputs[o,:,x,y]) / filter_outputs.shape[1]\n",
    "            assert np.allclose(normcoeff(filter_outputs, o, s), N[o, s])\n",
    "\n",
    "            print(f\"dimension {o},{s} is sound\")\n",
    "    else:\n",
    "        print(\"only doing 5 dimensions chosen at random\")\n",
    "        N = np.zeros(shape=(6,7,1024,1024))\n",
    "        for i in range(5):\n",
    "            o, s = np.random.randint(0,6), np.random.randint(0,7)\n",
    "            for x,y in np.ndindex(filter_outputs.shape[2:]):\n",
    "                N[o, s, x, y] = np.sum(filter_outputs[o,:,x,y]) / filter_outputs.shape[1] # Does W.f properly produce sum_o,s[w_o,s . f_o,s]\n",
    "            assert np.allclose(normcoeff(filter_outputs, o, s), N[o, s])\n",
    "\n",
    "            print(f\"dimension {o},{s} is sound\")\n",
    "        \n",
    "\n",
    "print(\"unit test normcoeff\")\n",
    "test_unit_normcoeff(filteroutput())\n",
    "print(\"unit test divisive\")\n",
    "\n",
    "def test_unit_divisive(filter_outputs):\n",
    "    for i in range(5):\n",
    "        o, s = np.random.randint(0,6), np.random.randint(0,7)\n",
    "        G = spatial_weighting(filter_outputs.shape[-2:])\n",
    "        N = normcoeff(filter_outputs, o, s)**2\n",
    "        z = np.mean(N)  # does N*G properly calculate mean(N)?\n",
    "        normed_filter = filter_outputs[o,s,:] / np.sqrt(z)\n",
    "        assert np.allclose(divisive_norm(filter_outputs, o, s), normed_filter)\n",
    "\n",
    "        print(f\"dimension {o},{s} is sound\")\n",
    "test_unit_divisive(filteroutput())"
   ]
  },
  {
   "cell_type": "markdown",
   "id": "afc4623f",
   "metadata": {},
   "source": [
    "So as one can see, all of the steps agree with the mathematical formulation of ODOG. The next step will be, to analyze whether the new formulation agrees not only with the math, but also with the already verified original implementation that is present in the current codebase."
   ]
  },
  {
   "cell_type": "code",
   "execution_count": 4,
   "id": "56300fe0",
   "metadata": {},
   "outputs": [
    {
     "ename": "AssertionError",
     "evalue": "",
     "output_type": "error",
     "traceback": [
      "\u001b[0;31m---------------------------------------------------------------------------\u001b[0m",
      "\u001b[0;31mAssertionError\u001b[0m                            Traceback (most recent call last)",
      "\u001b[0;32m/tmp/ipykernel_3280/416394366.py\u001b[0m in \u001b[0;36m<module>\u001b[0;34m\u001b[0m\n\u001b[1;32m     17\u001b[0m     \u001b[0;31m#assert np.allclose(output, output_odog_matlab)\u001b[0m\u001b[0;34m\u001b[0m\u001b[0;34m\u001b[0m\u001b[0;34m\u001b[0m\u001b[0m\n\u001b[1;32m     18\u001b[0m \u001b[0;34m\u001b[0m\u001b[0m\n\u001b[0;32m---> 19\u001b[0;31m \u001b[0mtest_integration_odog_reform\u001b[0m\u001b[0;34m(\u001b[0m\u001b[0;34m\"\"\u001b[0m\u001b[0;34m,\u001b[0m \u001b[0mstimulus\u001b[0m\u001b[0;34m)\u001b[0m\u001b[0;34m\u001b[0m\u001b[0;34m\u001b[0m\u001b[0m\n\u001b[0m",
      "\u001b[0;32m/tmp/ipykernel_3280/416394366.py\u001b[0m in \u001b[0;36mtest_integration_odog_reform\u001b[0;34m(output_odog_matlab, stimulus)\u001b[0m\n\u001b[1;32m     14\u001b[0m     \u001b[0mmodel\u001b[0m\u001b[0;34m.\u001b[0m\u001b[0mnormalize_outputs\u001b[0m \u001b[0;34m=\u001b[0m \u001b[0mnormalize_multiple_outputs\u001b[0m\u001b[0;34m\u001b[0m\u001b[0;34m\u001b[0m\u001b[0m\n\u001b[1;32m     15\u001b[0m     \u001b[0moutput\u001b[0m \u001b[0;34m=\u001b[0m \u001b[0mmodel\u001b[0m\u001b[0;34m.\u001b[0m\u001b[0mapply\u001b[0m\u001b[0;34m(\u001b[0m\u001b[0mstimulus\u001b[0m\u001b[0;34m)\u001b[0m\u001b[0;34m\u001b[0m\u001b[0;34m\u001b[0m\u001b[0m\n\u001b[0;32m---> 16\u001b[0;31m     \u001b[0;32massert\u001b[0m \u001b[0mnp\u001b[0m\u001b[0;34m.\u001b[0m\u001b[0mallclose\u001b[0m\u001b[0;34m(\u001b[0m\u001b[0moutput\u001b[0m\u001b[0;34m,\u001b[0m \u001b[0moutput2\u001b[0m\u001b[0;34m)\u001b[0m\u001b[0;34m\u001b[0m\u001b[0;34m\u001b[0m\u001b[0m\n\u001b[0m\u001b[1;32m     17\u001b[0m     \u001b[0;31m#assert np.allclose(output, output_odog_matlab)\u001b[0m\u001b[0;34m\u001b[0m\u001b[0;34m\u001b[0m\u001b[0;34m\u001b[0m\u001b[0m\n\u001b[1;32m     18\u001b[0m \u001b[0;34m\u001b[0m\u001b[0m\n",
      "\u001b[0;31mAssertionError\u001b[0m: "
     ]
    }
   ],
   "source": [
    "import scipy\n",
    "\n",
    "def normalize_multiple_outputs(filters_output):\n",
    "\n",
    "    normalized_outputs = np.ones(shape=filters_output.shape)\n",
    "    for o, s in np.ndindex(filters_output.shape[:2]):\n",
    "        normalized_outputs[o,s] = divisive_norm(filters_output, o,s)\n",
    "\n",
    "    return normalized_outputs\n",
    "\n",
    "def test_integration_odog_reform(output_odog_matlab, stimulus):\n",
    "    model = multyscale.models.ODOG_RHS2007(stimulus.shape, visextent)\n",
    "    output2 = model.apply(stimulus)\n",
    "    model.normalize_outputs = normalize_multiple_outputs\n",
    "    output = model.apply(stimulus)\n",
    "    assert np.allclose(output, output2)\n",
    "    #assert np.allclose(output, output_odog_matlab)\n",
    "    \n",
    "test_integration_odog_reform(\"\", stimulus)"
   ]
  },
  {
   "cell_type": "markdown",
   "id": "be557be3",
   "metadata": {},
   "source": [
    "This code takes a while to complete, and has a very dissatisfying ending. The formulation right now cannot reproduce traditional output"
   ]
  },
  {
   "cell_type": "code",
   "execution_count": null,
   "id": "a5b77b5f",
   "metadata": {},
   "outputs": [],
   "source": []
  }
 ],
 "metadata": {
  "kernelspec": {
   "display_name": "Python 3 (ipykernel)",
   "language": "python",
   "name": "python3"
  },
  "language_info": {
   "codemirror_mode": {
    "name": "ipython",
    "version": 3
   },
   "file_extension": ".py",
   "mimetype": "text/x-python",
   "name": "python",
   "nbconvert_exporter": "python",
   "pygments_lexer": "ipython3",
   "version": "3.7.3"
  }
 },
 "nbformat": 4,
 "nbformat_minor": 5
}
